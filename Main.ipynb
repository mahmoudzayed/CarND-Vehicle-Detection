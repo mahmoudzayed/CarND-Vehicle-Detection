{
 "cells": [
  {
   "cell_type": "code",
   "execution_count": 1,
   "metadata": {},
   "outputs": [
    {
     "name": "stderr",
     "output_type": "stream",
     "text": [
      "C:\\Users\\Lenovo\\Anaconda3\\envs\\SelfDrivingProject\\lib\\site-packages\\h5py\\__init__.py:36: FutureWarning: Conversion of the second argument of issubdtype from `float` to `np.floating` is deprecated. In future, it will be treated as `np.float64 == np.dtype(float).type`.\n",
      "  from ._conv import register_converters as _register_converters\n",
      "Using TensorFlow backend.\n"
     ]
    }
   ],
   "source": [
    "import cv2\n",
    "import numpy as np\n",
    "import tensorflow as tf\n",
    "from keras.models import Model, load_model"
   ]
  },
  {
   "cell_type": "code",
   "execution_count": 2,
   "metadata": {},
   "outputs": [],
   "source": [
    "def process_image(image):\n",
    "    #gray = np.expand_dims(cv2.cvtColor(image, cv2.COLOR_BGR2GRAY), axis=2)\n",
    "    #gray = (gray/255 - 0.5).astype(np.float32)\n",
    "    reshapeImage = np.expand_dims(image[380:600,620:], axis=0)\n",
    "    predImage = model.predict(reshapeImage, batch_size=1)\n",
    "    results = np.zeros_like(image)\n",
    "    results[380:540,620:,0] = predImage[0,:160,:,0]\n",
    "    results[380:540,620:,1] = predImage[0,:160,:,0]\n",
    "    results[380:540,620:,2] = predImage[0,:160,:,0]\n",
    "    #get_model_memory_usage(1,model)640\n",
    "    result = cv2.addWeighted(image, 1, results, 0.7, gamma=0)\n",
    "    return result"
   ]
  },
  {
   "cell_type": "code",
   "execution_count": 3,
   "metadata": {
    "scrolled": false
   },
   "outputs": [
    {
     "name": "stdout",
     "output_type": "stream",
     "text": [
      "[MoviePy] >>>> Building video output_images/project_video.mp4\n",
      "[MoviePy] Writing video output_images/project_video.mp4\n"
     ]
    },
    {
     "name": "stderr",
     "output_type": "stream",
     "text": [
      "100%|█████████████████████████████████████▉| 1260/1261 [01:30<00:00, 13.91it/s]\n"
     ]
    },
    {
     "name": "stdout",
     "output_type": "stream",
     "text": [
      "[MoviePy] Done.\n",
      "[MoviePy] >>>> Video ready: output_images/project_video.mp4 \n",
      "\n",
      "Wall time: 1min 31s\n"
     ]
    },
    {
     "data": {
      "text/html": [
       "<video width=\"960\" height=\"540\" controls><source src=\"output_images/project_video.mp4\"></video>"
      ],
      "text/plain": [
       "<IPython.core.display.HTML object>"
      ]
     },
     "execution_count": 3,
     "metadata": {},
     "output_type": "execute_result"
    }
   ],
   "source": [
    "# Import everything needed to edit/save/watch video clips\n",
    "from moviepy.editor import VideoFileClip\n",
    "from IPython.display import HTML\n",
    "\n",
    "white_output = 'output_images/project_video.mp4'\n",
    "clip1 = VideoFileClip(\"project_video.mp4\")#.subclip(40,45)\n",
    "# load the CCN trained model\n",
    "model = load_model('Car_Model.h5')\n",
    "white_clip = clip1.fl_image(process_image) #NOTE: this function expects color images!!\n",
    "%time white_clip.write_videofile(white_output, audio=False)\n",
    "HTML(\"\"\"<video width=\"960\" height=\"540\" controls><source src=\"{0}\"></video>\"\"\".format(white_output))"
   ]
  }
 ],
 "metadata": {
  "kernelspec": {
   "display_name": "Python 3",
   "language": "python",
   "name": "python3"
  },
  "language_info": {
   "codemirror_mode": {
    "name": "ipython",
    "version": 3
   },
   "file_extension": ".py",
   "mimetype": "text/x-python",
   "name": "python",
   "nbconvert_exporter": "python",
   "pygments_lexer": "ipython3",
   "version": "3.6.4"
  }
 },
 "nbformat": 4,
 "nbformat_minor": 2
}
