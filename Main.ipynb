{
 "cells": [
  {
   "cell_type": "code",
   "execution_count": 2,
   "metadata": {},
   "outputs": [],
   "source": [
    "import cv2\n",
    "\n",
    "i = 0\n",
    "\n",
    "def process_image(image):\n",
    "    global i \n",
    "    i = i + 1\n",
    "    RGBimage = cv2.cvtColor(image, cv2.COLOR_BGR2RGB)\n",
    "    cv2.imwrite('data/pic {:>04}.png'.format(i), RGBimage)\n",
    "    return image"
   ]
  },
  {
   "cell_type": "code",
   "execution_count": 3,
   "metadata": {
    "scrolled": false
   },
   "outputs": [
    {
     "name": "stdout",
     "output_type": "stream",
     "text": [
      "[MoviePy] >>>> Building video output_images/project_video.mp4\n",
      "[MoviePy] Writing video output_images/project_video.mp4\n"
     ]
    },
    {
     "name": "stderr",
     "output_type": "stream",
     "text": [
      "100%|█████████████████████████████████████▉| 1250/1251 [02:12<00:00,  9.47it/s]\n"
     ]
    },
    {
     "name": "stdout",
     "output_type": "stream",
     "text": [
      "[MoviePy] Done.\n",
      "[MoviePy] >>>> Video ready: output_images/project_video.mp4 \n",
      "\n",
      "Wall time: 2min 13s\n"
     ]
    },
    {
     "data": {
      "text/html": [
       "<video width=\"960\" height=\"540\" controls><source src=\"output_images/project_video.mp4\"></video>"
      ],
      "text/plain": [
       "<IPython.core.display.HTML object>"
      ]
     },
     "execution_count": 3,
     "metadata": {},
     "output_type": "execute_result"
    }
   ],
   "source": [
    "# Import everything needed to edit/save/watch video clips\n",
    "from moviepy.editor import VideoFileClip\n",
    "from IPython.display import HTML\n",
    "\n",
    "white_output = 'output_images/project_video.mp4'\n",
    "clip1 = VideoFileClip(\"project_video.mp4\").subclip(0,50)\n",
    "white_clip = clip1.fl_image(process_image) #NOTE: this function expects color images!!\n",
    "%time white_clip.write_videofile(white_output, audio=False)\n",
    "HTML(\"\"\"<video width=\"960\" height=\"540\" controls><source src=\"{0}\"></video>\"\"\".format(white_output))"
   ]
  },
  {
   "cell_type": "code",
   "execution_count": 4,
   "metadata": {},
   "outputs": [],
   "source": [
    "import csv\n",
    "import cv2\n",
    "import numpy as np\n",
    "import tensorflow as tf\n",
    "import matplotlib.image as mpimg\n",
    "import matplotlib.pyplot as plt\n",
    "from tqdm import tqdm"
   ]
  },
  {
   "cell_type": "code",
   "execution_count": 5,
   "metadata": {},
   "outputs": [
    {
     "name": "stdout",
     "output_type": "stream",
     "text": [
      "Reading file\n",
      "Loading the data\n"
     ]
    },
    {
     "name": "stderr",
     "output_type": "stream",
     "text": [
      "100%|████████████████████████████████████████| 200/200 [00:16<00:00, 11.90it/s]\n"
     ]
    }
   ],
   "source": [
    "def data_import(Filename):\n",
    "    # reading file content\n",
    "    print('Reading file')\n",
    "    samples = []\n",
    "    with open(Filename) as csvfile:\n",
    "        reader = csv.reader(csvfile)\n",
    "        for line in reader:\n",
    "            samples.append(line)\n",
    "    return samples \n",
    "\n",
    "\n",
    "def Extract_data(samples):\n",
    "\n",
    "    print('Loading the data')\n",
    "    imageSize = (mpimg.imread('test_images/test1.jpg')).shape[::-1]\n",
    "    images = []\n",
    "    SegImages = []\n",
    "    # looping for each line in the csv file\n",
    "    for batch_sample in tqdm(samples):\n",
    "        # importing the training images \n",
    "        name = 'data/training/'+batch_sample[0].split('\"')[1]\n",
    "        image = cv2.resize(mpimg.imread(name),imageSize[1:3])\n",
    "        images.append(image)\n",
    "        # importing the segmented rgb image \n",
    "        segname = 'data/training/'+batch_sample[1].split('\"')[1]\n",
    "        segimage = cv2.resize(mpimg.imread(segname),imageSize[1:3])\n",
    "        SegImages.append(segimage)\n",
    "\n",
    "    # convert the array to be numpy array\n",
    "    X_train = np.array(images)\n",
    "    y_train = np.array(SegImages)\n",
    " \n",
    "    return X_train, y_train\n",
    "\n",
    "# the file name that contain the data\n",
    "Filename = 'data/Training_log.csv'\n",
    "#import file content\n",
    "samples = data_import(Filename)\n",
    "#read images and measurments\n",
    "X_train, y_train = Extract_data(samples)"
   ]
  },
  {
   "cell_type": "code",
   "execution_count": 11,
   "metadata": {
    "scrolled": false
   },
   "outputs": [
    {
     "ename": "IndentationError",
     "evalue": "expected an indented block (<ipython-input-11-12fe9709410a>, line 116)",
     "output_type": "error",
     "traceback": [
      "\u001b[1;36m  File \u001b[1;32m\"<ipython-input-11-12fe9709410a>\"\u001b[1;36m, line \u001b[1;32m116\u001b[0m\n\u001b[1;33m    image_input, keep_prob, layer3, layer4, layer7 = load_vgg(session, vgg_path)\u001b[0m\n\u001b[1;37m              ^\u001b[0m\n\u001b[1;31mIndentationError\u001b[0m\u001b[1;31m:\u001b[0m expected an indented block\n"
     ]
    }
   ],
   "source": [
    "#!/usr/bin/env python3\n",
    "import os.path\n",
    "import tensorflow as tf\n",
    "import helper\n",
    "import warnings\n",
    "from distutils.version import LooseVersion\n",
    "import project_tests as tests\n",
    "\n",
    "\n",
    "def load_vgg(sess, vgg_path):\n",
    "  \n",
    "    # load the model and weights\n",
    "    model = tf.saved_model.loader.load(sess, ['vgg16'], vgg_path)\n",
    "\n",
    "    # Get Tensors to be returned from graph\n",
    "    graph = tf.get_default_graph()\n",
    "    image_input = graph.get_tensor_by_name('image_input:0')\n",
    "    keep_prob = graph.get_tensor_by_name('keep_prob:0')\n",
    "    layer3 = graph.get_tensor_by_name('layer3_out:0')\n",
    "    layer4 = graph.get_tensor_by_name('layer4_out:0')\n",
    "    layer7 = graph.get_tensor_by_name('layer7_out:0')\n",
    "\n",
    "    return image_input, keep_prob, layer3, layer4, layer7\n",
    "\n",
    "def layers(vgg_layer3_out, vgg_layer4_out, vgg_layer7_out, num_classes):\n",
    "  \n",
    "    # Use a shorter variable name for simplicity\n",
    "    layer3, layer4, layer7 = vgg_layer3_out, vgg_layer4_out, vgg_layer7_out\n",
    "\n",
    "    # Apply 1x1 convolution in place of fully connected layer\n",
    "    fcn8 = tf.layers.conv2d(layer7, filters=num_classes, kernel_size=1, name=\"fcn8\")\n",
    "\n",
    "    # Upsample fcn8 with size depth=(4096?) to match size of layer 4 so that we can add skip connection with 4th layer\n",
    "    fcn9 = tf.layers.conv2d_transpose(fcn8, filters=layer4.get_shape().as_list()[-1],\n",
    "    kernel_size=4, strides=(2, 2), padding='SAME', name=\"fcn9\")\n",
    "\n",
    "    # Add a skip connection between current final layer fcn8 and 4th layer\n",
    "    fcn9_skip_connected = tf.add(fcn9, layer4, name=\"fcn9_plus_vgg_layer4\")\n",
    "\n",
    "    # Upsample again\n",
    "    fcn10 = tf.layers.conv2d_transpose(fcn9_skip_connected, filters=layer3.get_shape().as_list()[-1],\n",
    "    kernel_size=4, strides=(2, 2), padding='SAME', name=\"fcn10_conv2d\")\n",
    "\n",
    "    # Add skip connection\n",
    "    fcn10_skip_connected = tf.add(fcn10, layer3, name=\"fcn10_plus_vgg_layer3\")\n",
    "\n",
    "    # Upsample again\n",
    "    fcn11 = tf.layers.conv2d_transpose(fcn10_skip_connected, filters=num_classes,\n",
    "    kernel_size=16, strides=(8, 8), padding='SAME', name=\"fcn11\")\n",
    "\n",
    "    return fcn11\n",
    "\n",
    "def optimize(nn_last_layer, correct_label, learning_rate, num_classes):\n",
    "  \n",
    "    # Reshape 4D tensors to 2D, each row represents a pixel, each column a class\n",
    "    logits = tf.reshape(nn_last_layer, (-1, num_classes), name=\"fcn_logits\")\n",
    "    correct_label_reshaped = tf.reshape(correct_label, (-1, num_classes))\n",
    "\n",
    "    # Calculate distance from actual labels using cross entropy\n",
    "    cross_entropy = tf.nn.softmax_cross_entropy_with_logits(logits=logits, labels=correct_label_reshaped[:])\n",
    "    # Take mean for total loss\n",
    "    loss_op = tf.reduce_mean(cross_entropy, name=\"fcn_loss\")\n",
    "\n",
    "    # The model implements this operation to find the weights/parameters that would yield correct pixel labels\n",
    "    train_op = tf.train.AdamOptimizer(learning_rate=learning_rate).minimize(loss_op, name=\"fcn_train_op\")\n",
    "\n",
    "    return logits, train_op, loss_op\n",
    "\n",
    "def train_nn(sess, epochs, batch_size, get_batches_fn, train_op,\n",
    "             cross_entropy_loss, input_image,\n",
    "             correct_label, keep_prob, learning_rate):\n",
    "\n",
    "    keep_prob_value = 0.5\n",
    "    learning_rate_value = 0.001\n",
    "    for epoch in range(epochs):\n",
    "      # Create function to get batches\n",
    "      total_loss = 0\n",
    "      for X_batch, gt_batch in get_batches_fn(batch_size):\n",
    "\n",
    "          loss, _ = sess.run([cross_entropy_loss, train_op],\n",
    "          feed_dict={input_image: X_batch, correct_label: gt_batch,\n",
    "          keep_prob: keep_prob_value, learning_rate:learning_rate_value})\n",
    "\n",
    "          total_loss += loss;\n",
    "\n",
    "      print(\"EPOCH {} ...\".format(epoch + 1))\n",
    "      print(\"Loss = {:.3f}\".format(total_loss))\n",
    "      print()\n",
    "\n",
    "def run():\n",
    "    num_classes = 2\n",
    "    image_shape = (160, 576)\n",
    "    data_dir = './data'\n",
    "    runs_dir = './runs'\n",
    "    tests.test_for_kitti_dataset(data_dir)\n",
    "\n",
    "    # Download pretrained vgg model\n",
    "    helper.maybe_download_pretrained_vgg(data_dir)\n",
    "\n",
    "    # OPTIONAL: Train and Inference on the cityscapes dataset instead of the Kitti dataset.\n",
    "    # You'll need a GPU with at least 10 teraFLOPS to train on.\n",
    "    #  https://www.cityscapes-dataset.com/\n",
    "\n",
    "    with tf.Session() as sess:\n",
    "        # Path to vgg model\n",
    "        vgg_path = os.path.join(data_dir, 'vgg')\n",
    "        # Create function to get batches\n",
    "        get_batches_fn = helper.gen_batch_function(os.path.join(data_dir, 'data_road/training'), image_shape)\n",
    "\n",
    "        # A function to get batches\n",
    "        get_batches_fn = gen_batch_function(training_dir, image_shape)\n",
    "\n",
    "        with tf.Session() as session:\n",
    "\n",
    "        # Returns the three layers, keep probability and input layer from the vgg architecture\n",
    "        image_input, keep_prob, layer3, layer4, layer7 = load_vgg(session, vgg_path)\n",
    "\n",
    "        # The resulting network architecture from adding a decoder on top of the given vgg model\n",
    "        model_output = layers(layer3, layer4, layer7, num_classes)\n",
    "\n",
    "        # Returns the output logits, training operation and cost operation to be used\n",
    "        # - logits: each row represents a pixel, each column a class\n",
    "        # - train_op: function used to get the right parameters to the model to correctly label the pixels\n",
    "        # - cross_entropy_loss: function outputting the cost which we are minimizing, lower cost should yield higher accuracy\n",
    "        logits, train_op, cross_entropy_loss = optimize(model_output, correct_label, learning_rate, num_classes)\n",
    "\n",
    "       # Initialize all variables\n",
    "       session.run(tf.global_variables_initializer())\n",
    "       session.run(tf.local_variables_initializer())\n",
    "\n",
    "       print(\"Model build successful, starting training\")\n",
    "\n",
    "       # Train the neural network\n",
    "       train_nn(session, EPOCHS, BATCH_SIZE, get_batches_fn, \n",
    "            train_op, cross_entropy_loss, image_input,\n",
    "            correct_label, keep_prob, learning_rate)\n",
    "\n",
    "        # Run the model with the test images and save each painted output image (roads painted green)\n",
    "        save_inference_samples(runs_dir, data_dir, session, image_shape, logits, keep_prob, image_input)\n",
    "\n",
    "        print(\"All done!\")\n",
    "run()"
   ]
  },
  {
   "cell_type": "code",
   "execution_count": null,
   "metadata": {},
   "outputs": [],
   "source": [
    "plt.imshow(y_train[100])"
   ]
  },
  {
   "cell_type": "code",
   "execution_count": null,
   "metadata": {},
   "outputs": [],
   "source": []
  }
 ],
 "metadata": {
  "kernelspec": {
   "display_name": "Python 3",
   "language": "python",
   "name": "python3"
  },
  "language_info": {
   "codemirror_mode": {
    "name": "ipython",
    "version": 3
   },
   "file_extension": ".py",
   "mimetype": "text/x-python",
   "name": "python",
   "nbconvert_exporter": "python",
   "pygments_lexer": "ipython3",
   "version": "3.6.4"
  }
 },
 "nbformat": 4,
 "nbformat_minor": 2
}
